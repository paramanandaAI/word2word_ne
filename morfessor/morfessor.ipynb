{
 "cells": [
  {
   "cell_type": "code",
   "execution_count": null,
   "metadata": {},
   "outputs": [],
   "source": [
    "% pip install morfessor\n"
   ]
  },
  {
   "cell_type": "code",
   "execution_count": 2,
   "metadata": {},
   "outputs": [],
   "source": [
    "import morfessor\n",
    "io = morfessor.MorfessorIO()\n",
    "modelin = io.read_any_model(\"indicnlp.v1.hi.model\")\n",
    "modelne = io.read_binary_model_file('../morfessor/newworst.bin')\n"
   ]
  },
  {
   "cell_type": "code",
   "execution_count": 5,
   "metadata": {},
   "outputs": [
    {
     "data": {
      "text/plain": [
       "(['अदालत', 'बाट', ' रवि लामिछानेसहित ७ जनालाई ', 'मधुमेह', 'ले'],\n",
       " 180.184461516392)"
      ]
     },
     "execution_count": 5,
     "metadata": {},
     "output_type": "execute_result"
    }
   ],
   "source": [
    "modelne.viterbi_segment(\"अदालतबाट रवि लामिछानेसहित ७ जनालाई मधुमेहले\")"
   ]
  },
  {
   "cell_type": "code",
   "execution_count": 6,
   "metadata": {},
   "outputs": [
    {
     "name": "stdout",
     "output_type": "stream",
     "text": [
      "Word: अदालतबाट, Segmentation: ['अदालत', 'बाट'], Cost: 15.884170660546145\n",
      "Word: रवि, Segmentation: ['रवि'], Cost: 11.760093460306221\n",
      "Word: लामिछानेसहित, Segmentation: ['लामिछाने', 'सहित'], Cost: 18.036082923536995\n",
      "Word: ७, Segmentation: ['७'], Cost: 8.967143815417526\n",
      "Word: जनालाई , Segmentation: ['जना', 'लाई', ' '], Cost: 51.902086262061644\n",
      "Word: नगर्नु, Segmentation: ['नगर्नु'], Cost: 12.728343931111088\n",
      "Word: मधुमेहले, Segmentation: ['मधुमेह', 'ले'], Cost: 16.47592934895998\n",
      "Word: मधुमेह, Segmentation: ['मधुमेह'], Cost: 12.546022374317134\n"
     ]
    }
   ],
   "source": [
    "# List of Nepali words\n",
    "words = [\n",
    "  \"अदालतबाट\", \"रवि\", \"लामिछानेसहित\" ,\"७\", \"जनालाई \",\"नगर्नु\",\"मधुमेहले\",\"मधुमेह\"\n",
    "]\n",
    "\n",
    "# Segment each word\n",
    "for word in words:\n",
    "    try:\n",
    "        segmentation, cost = modelne.viterbi_segment(word, addcount=1.0, maxlen=20)\n",
    "        print(f\"Word: {word}, Segmentation: {segmentation}, Cost: {cost}\")\n",
    "    except ValueError as e:\n",
    "        print(f\"Error with word '{word}': {e} - Falling back to basic segmentation.\")\n",
    "        # Fallback to basic segmentation\n",
    "        print(f\"Fallback segmentation for '{word}': {list(word)}\")"
   ]
  },
  {
   "cell_type": "code",
   "execution_count": 7,
   "metadata": {},
   "outputs": [
    {
     "name": "stderr",
     "output_type": "stream",
     "text": [
      "UsageError: Line magic function `%` not found.\n"
     ]
    }
   ],
   "source": [
    "# /Users/fulbutte/Desktop/nepali_unigrams.txt\n",
    "% morfessor-train --count-modelfile /Users/fulbutte/Desktop/nepali_unigrams.txt -s morfessor_model.bin\n"
   ]
  },
  {
   "cell_type": "code",
   "execution_count": 9,
   "metadata": {},
   "outputs": [
    {
     "name": "stderr",
     "output_type": "stream",
     "text": [
      "...................................................."
     ]
    },
    {
     "ename": "KeyboardInterrupt",
     "evalue": "",
     "output_type": "error",
     "traceback": [
      "\u001b[0;31m---------------------------------------------------------------------------\u001b[0m",
      "\u001b[0;31mKeyboardInterrupt\u001b[0m                         Traceback (most recent call last)",
      "Cell \u001b[0;32mIn[9], line 12\u001b[0m\n\u001b[1;32m      9\u001b[0m model\u001b[38;5;241m.\u001b[39mload_data(data, count_modifier\u001b[38;5;241m=\u001b[39m\u001b[38;5;28;01mNone\u001b[39;00m)\n\u001b[1;32m     11\u001b[0m \u001b[38;5;66;03m# Train the model\u001b[39;00m\n\u001b[0;32m---> 12\u001b[0m model\u001b[38;5;241m.\u001b[39mtrain_batch()\n\u001b[1;32m     14\u001b[0m \u001b[38;5;66;03m# Save the trained model\u001b[39;00m\n\u001b[1;32m     15\u001b[0m io\u001b[38;5;241m.\u001b[39mwrite_binary_model_file(\u001b[38;5;124m'\u001b[39m\u001b[38;5;124mmorfessor_model.bin\u001b[39m\u001b[38;5;124m'\u001b[39m, model)\n",
      "File \u001b[0;32m/opt/anaconda3/lib/python3.12/site-packages/morfessor/baseline.py:598\u001b[0m, in \u001b[0;36mBaselineModel.train_batch\u001b[0;34m(self, algorithm, algorithm_params, finish_threshold, max_epochs)\u001b[0m\n\u001b[1;32m    596\u001b[0m \u001b[38;5;28;01mfor\u001b[39;00m w \u001b[38;5;129;01min\u001b[39;00m _progress(compounds):\n\u001b[1;32m    597\u001b[0m     \u001b[38;5;28;01mif\u001b[39;00m algorithm \u001b[38;5;241m==\u001b[39m \u001b[38;5;124m'\u001b[39m\u001b[38;5;124mrecursive\u001b[39m\u001b[38;5;124m'\u001b[39m:\n\u001b[0;32m--> 598\u001b[0m         segments \u001b[38;5;241m=\u001b[39m \u001b[38;5;28mself\u001b[39m\u001b[38;5;241m.\u001b[39m_recursive_optimize(w, \u001b[38;5;241m*\u001b[39malgorithm_params)\n\u001b[1;32m    599\u001b[0m     \u001b[38;5;28;01melif\u001b[39;00m algorithm \u001b[38;5;241m==\u001b[39m \u001b[38;5;124m'\u001b[39m\u001b[38;5;124mviterbi\u001b[39m\u001b[38;5;124m'\u001b[39m:\n\u001b[1;32m    600\u001b[0m         segments \u001b[38;5;241m=\u001b[39m \u001b[38;5;28mself\u001b[39m\u001b[38;5;241m.\u001b[39m_viterbi_optimize(w, \u001b[38;5;241m*\u001b[39malgorithm_params)\n",
      "File \u001b[0;32m/opt/anaconda3/lib/python3.12/site-packages/morfessor/baseline.py:297\u001b[0m, in \u001b[0;36mBaselineModel._recursive_optimize\u001b[0;34m(self, compound)\u001b[0m\n\u001b[1;32m    294\u001b[0m parts \u001b[38;5;241m=\u001b[39m \u001b[38;5;28mself\u001b[39m\u001b[38;5;241m.\u001b[39m_force_split(compound)\n\u001b[1;32m    295\u001b[0m \u001b[38;5;28;01mif\u001b[39;00m \u001b[38;5;28mlen\u001b[39m(parts) \u001b[38;5;241m==\u001b[39m \u001b[38;5;241m1\u001b[39m:\n\u001b[1;32m    296\u001b[0m     \u001b[38;5;66;03m# just one part\u001b[39;00m\n\u001b[0;32m--> 297\u001b[0m     \u001b[38;5;28;01mreturn\u001b[39;00m \u001b[38;5;28mself\u001b[39m\u001b[38;5;241m.\u001b[39m_recursive_split(compound)\n\u001b[1;32m    298\u001b[0m \u001b[38;5;28mself\u001b[39m\u001b[38;5;241m.\u001b[39m_set_compound_analysis(compound, parts)\n\u001b[1;32m    299\u001b[0m \u001b[38;5;66;03m# Use recursive algorithm to optimize the subsegments\u001b[39;00m\n",
      "File \u001b[0;32m/opt/anaconda3/lib/python3.12/site-packages/morfessor/baseline.py:328\u001b[0m, in \u001b[0;36mBaselineModel._recursive_split\u001b[0;34m(self, construction)\u001b[0m\n\u001b[1;32m    326\u001b[0m prefix \u001b[38;5;241m=\u001b[39m construction[:i]\n\u001b[1;32m    327\u001b[0m suffix \u001b[38;5;241m=\u001b[39m construction[i:]\n\u001b[0;32m--> 328\u001b[0m \u001b[38;5;28mself\u001b[39m\u001b[38;5;241m.\u001b[39m_modify_construction_count(prefix, count)\n\u001b[1;32m    329\u001b[0m \u001b[38;5;28mself\u001b[39m\u001b[38;5;241m.\u001b[39m_modify_construction_count(suffix, count)\n\u001b[1;32m    330\u001b[0m cost \u001b[38;5;241m=\u001b[39m \u001b[38;5;28mself\u001b[39m\u001b[38;5;241m.\u001b[39mget_cost()\n",
      "File \u001b[0;32m/opt/anaconda3/lib/python3.12/site-packages/morfessor/baseline.py:386\u001b[0m, in \u001b[0;36mBaselineModel._modify_construction_count\u001b[0;34m(self, construction, dcount)\u001b[0m\n\u001b[1;32m    383\u001b[0m     \u001b[38;5;28mself\u001b[39m\u001b[38;5;241m.\u001b[39m_annot_coding\u001b[38;5;241m.\u001b[39mupdate_count(construction, count, newcount)\n\u001b[1;32m    385\u001b[0m \u001b[38;5;28;01mif\u001b[39;00m count \u001b[38;5;241m==\u001b[39m \u001b[38;5;241m0\u001b[39m \u001b[38;5;129;01mand\u001b[39;00m newcount \u001b[38;5;241m>\u001b[39m \u001b[38;5;241m0\u001b[39m:\n\u001b[0;32m--> 386\u001b[0m     \u001b[38;5;28mself\u001b[39m\u001b[38;5;241m.\u001b[39m_lexicon_coding\u001b[38;5;241m.\u001b[39madd(construction)\n\u001b[1;32m    387\u001b[0m \u001b[38;5;28;01melif\u001b[39;00m count \u001b[38;5;241m>\u001b[39m \u001b[38;5;241m0\u001b[39m \u001b[38;5;129;01mand\u001b[39;00m newcount \u001b[38;5;241m==\u001b[39m \u001b[38;5;241m0\u001b[39m:\n\u001b[1;32m    388\u001b[0m     \u001b[38;5;28mself\u001b[39m\u001b[38;5;241m.\u001b[39m_lexicon_coding\u001b[38;5;241m.\u001b[39mremove(construction)\n",
      "File \u001b[0;32m/opt/anaconda3/lib/python3.12/site-packages/morfessor/baseline.py:1382\u001b[0m, in \u001b[0;36mLexiconEncoding.add\u001b[0;34m(self, construction)\u001b[0m\n\u001b[1;32m   1380\u001b[0m c \u001b[38;5;241m=\u001b[39m \u001b[38;5;28mself\u001b[39m\u001b[38;5;241m.\u001b[39matoms[atom]\n\u001b[1;32m   1381\u001b[0m \u001b[38;5;28mself\u001b[39m\u001b[38;5;241m.\u001b[39matoms[atom] \u001b[38;5;241m=\u001b[39m c \u001b[38;5;241m+\u001b[39m \u001b[38;5;241m1\u001b[39m\n\u001b[0;32m-> 1382\u001b[0m \u001b[38;5;28mself\u001b[39m\u001b[38;5;241m.\u001b[39mupdate_count(atom, c, c \u001b[38;5;241m+\u001b[39m \u001b[38;5;241m1\u001b[39m)\n",
      "File \u001b[0;32m/opt/anaconda3/lib/python3.12/site-packages/morfessor/baseline.py:1207\u001b[0m, in \u001b[0;36mEncoding.update_count\u001b[0;34m(self, construction, old_count, new_count)\u001b[0m\n\u001b[1;32m   1205\u001b[0m \u001b[38;5;28mself\u001b[39m\u001b[38;5;241m.\u001b[39mtokens \u001b[38;5;241m+\u001b[39m\u001b[38;5;241m=\u001b[39m new_count \u001b[38;5;241m-\u001b[39m old_count\n\u001b[1;32m   1206\u001b[0m \u001b[38;5;28;01mif\u001b[39;00m old_count \u001b[38;5;241m>\u001b[39m \u001b[38;5;241m1\u001b[39m:\n\u001b[0;32m-> 1207\u001b[0m     \u001b[38;5;28mself\u001b[39m\u001b[38;5;241m.\u001b[39mlogtokensum \u001b[38;5;241m-\u001b[39m\u001b[38;5;241m=\u001b[39m old_count \u001b[38;5;241m*\u001b[39m math\u001b[38;5;241m.\u001b[39mlog(old_count)\n\u001b[1;32m   1208\u001b[0m \u001b[38;5;28;01mif\u001b[39;00m new_count \u001b[38;5;241m>\u001b[39m \u001b[38;5;241m1\u001b[39m:\n\u001b[1;32m   1209\u001b[0m     \u001b[38;5;28mself\u001b[39m\u001b[38;5;241m.\u001b[39mlogtokensum \u001b[38;5;241m+\u001b[39m\u001b[38;5;241m=\u001b[39m new_count \u001b[38;5;241m*\u001b[39m math\u001b[38;5;241m.\u001b[39mlog(new_count)\n",
      "\u001b[0;31mKeyboardInterrupt\u001b[0m: "
     ]
    }
   ],
   "source": [
    "import morfessor\n",
    "\n",
    "# Initialize the Morfessor IO and Baseline model\n",
    "io = morfessor.MorfessorIO()\n",
    "model = morfessor.BaselineModel()\n",
    "\n",
    "# Load the unigram count data\n",
    "data = io.read_corpus_file('/Users/fulbutte/Desktop/nepali_unigrams.txt')\n",
    "model.load_data(data, count_modifier=None)\n",
    "\n",
    "# Train the model\n",
    "model.train_batch()\n",
    "\n",
    "# Save the trained model\n",
    "io.write_binary_model_file('morfessor_model.bin', model)\n"
   ]
  },
  {
   "cell_type": "code",
   "execution_count": null,
   "metadata": {},
   "outputs": [],
   "source": []
  }
 ],
 "metadata": {
  "kernelspec": {
   "display_name": "base",
   "language": "python",
   "name": "python3"
  },
  "language_info": {
   "codemirror_mode": {
    "name": "ipython",
    "version": 3
   },
   "file_extension": ".py",
   "mimetype": "text/x-python",
   "name": "python",
   "nbconvert_exporter": "python",
   "pygments_lexer": "ipython3",
   "version": "3.12.7"
  }
 },
 "nbformat": 4,
 "nbformat_minor": 2
}
