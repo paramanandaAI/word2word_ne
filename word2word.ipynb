{
 "cells": [
  {
   "cell_type": "code",
   "execution_count": null,
   "metadata": {},
   "outputs": [],
   "source": [
    "%pip install -r requirements.txt"
   ]
  },
  {
   "cell_type": "code",
   "execution_count": null,
   "metadata": {},
   "outputs": [],
   "source": []
  },
  {
   "cell_type": "code",
   "execution_count": 1,
   "metadata": {},
   "outputs": [
    {
     "name": "stdout",
     "output_type": "stream",
     "text": [
      "Step 0. Check files\n",
      "Step 1. Load tokenizer\n",
      "Step 2. Constructing sentences\n",
      "Time taken for step 2: 0.54s\n",
      "Step 3. Compute vocabularies\n"
     ]
    },
    {
     "name": "stderr",
     "output_type": "stream",
     "text": [
      "100%|██████████| 165676/165676 [00:00<00:00, 5127698.97it/s]\n",
      "100%|██████████| 15841/15841 [00:00<00:00, 2487159.15it/s]\n",
      "100%|██████████| 127075/127075 [00:00<00:00, 3803059.49it/s]\n",
      "100%|██████████| 27811/27811 [00:00<00:00, 3750612.15it/s]\n"
     ]
    },
    {
     "name": "stdout",
     "output_type": "stream",
     "text": [
      "Step 4. Update count dictionaries\n"
     ]
    },
    {
     "name": "stderr",
     "output_type": "stream",
     "text": [
      "100%|██████████| 10001/10001 [00:01<00:00, 5412.73it/s]\n"
     ]
    },
    {
     "name": "stdout",
     "output_type": "stream",
     "text": [
      "Step 5. Translation using CPE scores\n",
      "Entering multiprocessing with 1 workers... (#words=15841)\n",
      "Entering multiprocessing with 1 workers... (#words=27811)\n",
      "Time taken for step 5: 25.88s\n",
      "Saving...\n",
      "Done!\n",
      "['मधुमेहबाट', 'मधुमेहको', 'उदर', 'मधुमेहमा', 'मधुमेहले']\n"
     ]
    }
   ],
   "source": [
    "from word2word import Word2word\n",
    "\n",
    "# test parallel data\n",
    "my_hi2ne = Word2word.make(\"hi\", \"ne\", \"data/test\",to_clean=True,lemma=True,num_workers=1)\n",
    "# ...building...\n",
    "print(my_hi2ne(\"मधुमेह\"))\n"
   ]
  },
  {
   "cell_type": "code",
   "execution_count": 3,
   "metadata": {},
   "outputs": [
    {
     "name": "stdout",
     "output_type": "stream",
     "text": [
      "['गाउँ', 'गाउँलाई', 'मलाना', 'गाउँको', 'ग्राममा']\n"
     ]
    }
   ],
   "source": [
    "print(my_hi2ne(\"गांव\"))\n"
   ]
  },
  {
   "cell_type": "code",
   "execution_count": null,
   "metadata": {},
   "outputs": [],
   "source": []
  }
 ],
 "metadata": {
  "kernelspec": {
   "display_name": "base",
   "language": "python",
   "name": "python3"
  },
  "language_info": {
   "codemirror_mode": {
    "name": "ipython",
    "version": 3
   },
   "file_extension": ".py",
   "mimetype": "text/x-python",
   "name": "python",
   "nbconvert_exporter": "python",
   "pygments_lexer": "ipython3",
   "version": "3.12.7"
  }
 },
 "nbformat": 4,
 "nbformat_minor": 2
}
