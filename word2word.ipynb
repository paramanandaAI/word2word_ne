{
 "cells": [
  {
   "cell_type": "code",
   "execution_count": 8,
   "metadata": {},
   "outputs": [
    {
     "name": "stdout",
     "output_type": "stream",
     "text": [
      "\u001b[33mDEPRECATION: Loading egg at /opt/anaconda3/lib/python3.12/site-packages/word2word-1.0.0-py3.12.egg is deprecated. pip 24.3 will enforce this behaviour change. A possible replacement is to use pip for package installation. Discussion can be found at https://github.com/pypa/pip/issues/12330\u001b[0m\u001b[33m\n",
      "\u001b[0mRequirement already satisfied: requests in /opt/anaconda3/lib/python3.12/site-packages (from -r requirements.txt (line 1)) (2.32.3)\n",
      "Requirement already satisfied: wget in /opt/anaconda3/lib/python3.12/site-packages (from -r requirements.txt (line 2)) (3.2)\n",
      "Requirement already satisfied: numpy in /opt/anaconda3/lib/python3.12/site-packages (from -r requirements.txt (line 3)) (1.26.4)\n",
      "Requirement already satisfied: tqdm in /opt/anaconda3/lib/python3.12/site-packages (from -r requirements.txt (line 4)) (4.66.5)\n",
      "Requirement already satisfied: nltk in /opt/anaconda3/lib/python3.12/site-packages (from -r requirements.txt (line 5)) (3.9.1)\n",
      "Requirement already satisfied: charset-normalizer<4,>=2 in /opt/anaconda3/lib/python3.12/site-packages (from requests->-r requirements.txt (line 1)) (3.3.2)\n",
      "Requirement already satisfied: idna<4,>=2.5 in /opt/anaconda3/lib/python3.12/site-packages (from requests->-r requirements.txt (line 1)) (3.7)\n",
      "Requirement already satisfied: urllib3<3,>=1.21.1 in /opt/anaconda3/lib/python3.12/site-packages (from requests->-r requirements.txt (line 1)) (2.2.3)\n",
      "Requirement already satisfied: certifi>=2017.4.17 in /opt/anaconda3/lib/python3.12/site-packages (from requests->-r requirements.txt (line 1)) (2024.8.30)\n",
      "Requirement already satisfied: click in /opt/anaconda3/lib/python3.12/site-packages (from nltk->-r requirements.txt (line 5)) (8.1.7)\n",
      "Requirement already satisfied: joblib in /opt/anaconda3/lib/python3.12/site-packages (from nltk->-r requirements.txt (line 5)) (1.4.2)\n",
      "Requirement already satisfied: regex>=2021.8.3 in /opt/anaconda3/lib/python3.12/site-packages (from nltk->-r requirements.txt (line 5)) (2024.9.11)\n",
      "Note: you may need to restart the kernel to use updated packages.\n"
     ]
    }
   ],
   "source": [
    "%pip install -r requirements.txt"
   ]
  },
  {
   "cell_type": "code",
   "execution_count": null,
   "metadata": {},
   "outputs": [],
   "source": []
  },
  {
   "cell_type": "code",
   "execution_count": 2,
   "metadata": {},
   "outputs": [
    {
     "name": "stdout",
     "output_type": "stream",
     "text": [
      "Step 0. Check files\n",
      "Step 1. Load tokenizer\n",
      "Step 2. Constructing sentences\n",
      "Entering multiprocessing with 16 workers...\n",
      "Entering multiprocessing with 16 workers...\n",
      "Time taken for step 2: 6.29s\n",
      "Step 3. Compute vocabularies\n"
     ]
    },
    {
     "name": "stderr",
     "output_type": "stream",
     "text": [
      "100%|██████████| 165676/165676 [00:00<00:00, 4020408.87it/s]\n",
      "100%|██████████| 15841/15841 [00:00<00:00, 738473.85it/s]\n",
      "100%|██████████| 127075/127075 [00:00<00:00, 4725559.95it/s]\n",
      "100%|██████████| 27811/27811 [00:00<00:00, 3450097.27it/s]\n"
     ]
    },
    {
     "name": "stdout",
     "output_type": "stream",
     "text": [
      "Step 4. Update count dictionaries\n"
     ]
    },
    {
     "name": "stderr",
     "output_type": "stream",
     "text": [
      "100%|██████████| 10001/10001 [00:01<00:00, 5384.05it/s]\n"
     ]
    },
    {
     "name": "stdout",
     "output_type": "stream",
     "text": [
      "Step 5. Translation using CPE scores\n",
      "Entering multiprocessing with 16 workers... (#words=15841)\n",
      "Entering multiprocessing with 16 workers... (#words=27811)\n",
      "Time taken for step 5: 23.40s\n",
      "Saving...\n",
      "Done!\n",
      "['मधुमेहबाट', 'मधुमेहको', 'उदर', 'मधुमेहमा', 'मधुमेहले']\n"
     ]
    }
   ],
   "source": [
    "from word2word import Word2word\n",
    "\n",
    "# test parallel data\n",
    "my_hi2ne = Word2word.make(\"hi\", \"ne\", \"data/test\",to_clean=True)\n",
    "# ...building...\n",
    "print(my_hi2ne(\"मधुमेह\"))\n"
   ]
  },
  {
   "cell_type": "code",
   "execution_count": null,
   "metadata": {},
   "outputs": [],
   "source": []
  }
 ],
 "metadata": {
  "kernelspec": {
   "display_name": "base",
   "language": "python",
   "name": "python3"
  },
  "language_info": {
   "codemirror_mode": {
    "name": "ipython",
    "version": 3
   },
   "file_extension": ".py",
   "mimetype": "text/x-python",
   "name": "python",
   "nbconvert_exporter": "python",
   "pygments_lexer": "ipython3",
   "version": "3.12.7"
  }
 },
 "nbformat": 4,
 "nbformat_minor": 2
}
